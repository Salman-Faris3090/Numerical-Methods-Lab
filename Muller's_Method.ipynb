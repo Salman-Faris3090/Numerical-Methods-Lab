{
  "nbformat": 4,
  "nbformat_minor": 0,
  "metadata": {
    "colab": {
      "provenance": [],
      "authorship_tag": "ABX9TyOhIjpCInltOnlEtibHax2v"
    },
    "kernelspec": {
      "name": "python3",
      "display_name": "Python 3"
    },
    "language_info": {
      "name": "python"
    }
  },
  "cells": [
    {
      "cell_type": "code",
      "execution_count": 3,
      "metadata": {
        "colab": {
          "base_uri": "https://localhost:8080/"
        },
        "id": "Ml7Vicy9iAWE",
        "outputId": "eada5fc0-a1dd-44fe-97f9-f08c00add99d"
      },
      "outputs": [
        {
          "output_type": "stream",
          "name": "stdout",
          "text": [
            "Enter the function in terms of x : x**3-x-1\n",
            "Enter the value of x0 : 0\n",
            "Enter the value of x1 : 1\n",
            "Enter the value of x2 : 2\n",
            "Enter the value of epsilon : 0.005\n",
            "Enter the maximum no of iterations : 5\n",
            "Root : 1.325\n"
          ]
        }
      ],
      "source": [
        "\n",
        "from math import sqrt, sin, cos, tan, log, pi\n",
        "\n",
        "def muller_method(f : str, x0 : float, x1 : float, x2 : float, tol : float = 1e-6, max_iter : int = 100) -> float | str :\n",
        "    h1 = x1 - x0\n",
        "    h2 = x2 - x1\n",
        "    delta1 = (f(x1) - f(x0)) / h1\n",
        "    delta2 = (f(x2) - f(x1)) / h2\n",
        "    d = (delta2 - delta1) / (h2 + h1)\n",
        "\n",
        "    i = 3\n",
        "    while i <= max_iter:\n",
        "        b = delta2 + h2 * d\n",
        "        D = sqrt(b**2 - 4 * f(x2) * d)\n",
        "\n",
        "        if abs(b - D) < abs(b + D):\n",
        "            E = b + D\n",
        "        else:\n",
        "            E = b - D\n",
        "\n",
        "        h = -2 * f(x2) / E\n",
        "        p = x2 + h\n",
        "\n",
        "        if abs(h) < tol:\n",
        "            return p\n",
        "\n",
        "        x0 = x1\n",
        "        x1 = x2\n",
        "        x2 = p\n",
        "\n",
        "        h1 = x1 - x0\n",
        "        h2 = x2 - x1\n",
        "        delta1 = (f(x1) - f(x0)) / h1\n",
        "        delta2 = (f(x2) - f(x1)) / h2\n",
        "        d = (delta2 - delta1) / (h2 + h1)\n",
        "\n",
        "        i += 1\n",
        "\n",
        "    return p\n",
        "\n",
        "def get_decimals(Epsilon: float)-> int:\n",
        "    return len(str(Epsilon).split(\".\")[1])\n",
        "\n",
        "def decimal_rounded(x: float, decimals : int) -> str:\n",
        "    dec_in_x = get_decimals(x)\n",
        "    if dec_in_x < decimals :\n",
        "        return str(x)\n",
        "    else :\n",
        "        rounded_str = str(round(x, decimals))\n",
        "        for i in rounded_str.split(\".\")[1] :\n",
        "            if i != 0 :\n",
        "                return rounded_str\n",
        "        return rounded_str.split(\".\")[0]\n",
        "\n",
        "def main():\n",
        "    function = input(\"Enter the function in terms of x : \")\n",
        "    x0 = float(input(\"Enter the value of x0 : \"))\n",
        "    x1 = float(input(\"Enter the value of x1 : \"))\n",
        "    x2 = float(input(\"Enter the value of x2 : \"))\n",
        "    Epsilon = float(input(\"Enter the value of epsilon : \"))\n",
        "    max_iter = int(input(\"Enter the maximum no of iterations : \"))\n",
        "    func = lambda x : eval(function)\n",
        "    root = muller_method(func, x0, x1, x2, Epsilon, max_iter )\n",
        "    if root is None :\n",
        "        print(\"Unable to find the roots in the given interval.\")\n",
        "    else:\n",
        "        print(f\"Root : {decimal_rounded(root, get_decimals(Epsilon))}\")\n",
        "\n",
        "if __name__ == \"__main__\":\n",
        "    main()"
      ]
    }
  ]
}