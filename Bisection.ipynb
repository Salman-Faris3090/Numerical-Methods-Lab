{
  "nbformat": 4,
  "nbformat_minor": 0,
  "metadata": {
    "colab": {
      "provenance": [],
      "authorship_tag": "ABX9TyO0QkeVNMw8CL5w+jeXKfFg"
    },
    "kernelspec": {
      "name": "python3",
      "display_name": "Python 3"
    },
    "language_info": {
      "name": "python"
    }
  },
  "cells": [
    {
      "cell_type": "code",
      "execution_count": 15,
      "metadata": {
        "colab": {
          "base_uri": "https://localhost:8080/"
        },
        "id": "9Pidifr0tYjy",
        "outputId": "c0f64277-6672-4dcb-dea4-d954f3138ab8"
      },
      "outputs": [
        {
          "output_type": "stream",
          "name": "stdout",
          "text": [
            "Enter the function in terms of x: x**6-x-6\n",
            "Enter the value of a: 1\n",
            "Enter the value of b: 2\n",
            "Enter the value of ε: 0.00005\n",
            "The value of root is :  1.3958\n"
          ]
        }
      ],
      "source": [
        "#         *** Bisection Method ***\n",
        "\n",
        "def bisect(function : str, a : int, b : int, Epsilon : float) -> float :\n",
        "    if function(a) * function(b) >= 0:\n",
        "        return None\n",
        "    c = None\n",
        "    while ((b-a) >= Epsilon):\n",
        "        c = (a+b)/2\n",
        "        if function(c) == 0.0:\n",
        "            break\n",
        "        if function(c) * function(a) < 0:\n",
        "            b = c\n",
        "        else:\n",
        "            a = c\n",
        "    return c\n",
        "\n",
        "\n",
        "def main():\n",
        "    function = input(\"Enter the function in terms of x: \")\n",
        "    a = int(input(\"Enter the value of a: \"))\n",
        "    b = int(input(\"Enter the value of b: \"))\n",
        "    Epsilon = float(input(\"Enter the value of ε: \"))\n",
        "    func = lambda x: eval(function)\n",
        "    root = bisect(func, a, b, Epsilon)\n",
        "    if root is not None:\n",
        "        print(\"The value of root is : \", \"%.4f\"%root)\n",
        "    else:\n",
        "        print(\"No root in the given interval\")\n",
        "\n",
        "if __name__ == \"__main__\":\n",
        "    main()"
      ]
    }
  ]
}