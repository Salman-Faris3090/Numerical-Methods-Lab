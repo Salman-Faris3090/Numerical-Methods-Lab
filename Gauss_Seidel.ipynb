{
  "nbformat": 4,
  "nbformat_minor": 0,
  "metadata": {
    "colab": {
      "provenance": [],
      "authorship_tag": "ABX9TyOMwEjXOQeUHAdGazVHVBK2"
    },
    "kernelspec": {
      "name": "python3",
      "display_name": "Python 3"
    },
    "language_info": {
      "name": "python"
    }
  },
  "cells": [
    {
      "cell_type": "code",
      "source": [
        "# Gauss_Seidel\n",
        "\n",
        "import numpy as np\n",
        "\n",
        "def Error(xn,x,E):\n",
        "  return ((x-xn)/x)*100\n",
        "\n",
        "def gauss_siedel(A,b,E):\n",
        "  x1=x2=x3=0\n",
        "  while(True):\n",
        "    x = (b[0] - A[0,1]*x2 - A[0,2]*x3)/A[0,0]\n",
        "    E1 = Error(x1,x,E)\n",
        "    x1 = x\n",
        "    x = (b[1] - A[1,0]*x1 - A[1,2]*x3)/A[1,1]\n",
        "    E2 = Error(x2,x,E)\n",
        "    x2 = x\n",
        "    x = (b[2] - A[2,0]*x1 - A[2,1]*x2)/A[2,2]\n",
        "    E3 = Error(x3,x,E)\n",
        "    x3 = x\n",
        "    if (E1<E) & (E2<E) & (E3<E):\n",
        "      break\n",
        "  return [x1,x2,x3]\n",
        "\n",
        "if __name__==\"__main__\":\n",
        "  A = np.array([[3, -0.1, -0.2],\n",
        "                [0.1, 7, -0.3],\n",
        "                [0.3, -0.2, 10]], dtype=float)\n",
        "  b = np.array([7.85, -19.3, 71.4], dtype=float)\n",
        "  E = 5\n",
        "  solution = gauss_siedel(A, b, E)\n",
        "  print(\"Solution:\", solution)"
      ],
      "metadata": {
        "colab": {
          "base_uri": "https://localhost:8080/"
        },
        "id": "NHyJk_oHEDo7",
        "outputId": "467a8de3-b37b-4eff-d99c-480717c6d6e4"
      },
      "execution_count": 3,
      "outputs": [
        {
          "output_type": "stream",
          "name": "stdout",
          "text": [
            "Solution: [3.0000318979108087, -2.499987992353051, 6.999999283215615]\n"
          ]
        }
      ]
    }
  ]
}