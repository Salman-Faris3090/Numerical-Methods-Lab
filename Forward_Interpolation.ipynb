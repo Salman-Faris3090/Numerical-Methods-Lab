{
  "nbformat": 4,
  "nbformat_minor": 0,
  "metadata": {
    "colab": {
      "provenance": [],
      "authorship_tag": "ABX9TyP8CkPa5WFrD63P9Ol11ZCS"
    },
    "kernelspec": {
      "name": "python3",
      "display_name": "Python 3"
    },
    "language_info": {
      "name": "python"
    }
  },
  "cells": [
    {
      "cell_type": "code",
      "execution_count": 3,
      "metadata": {
        "colab": {
          "base_uri": "https://localhost:8080/"
        },
        "id": "2A3ucssav8JE",
        "outputId": "edb619e8-0f54-414d-e001-cbc347a0c516"
      },
      "outputs": [
        {
          "output_type": "stream",
          "name": "stdout",
          "text": [
            "The estimated value at x = 4 is: 165.0\n"
          ]
        }
      ],
      "source": [
        "#  Write  a program to estimate the value of a function or any intermediate\n",
        "\n",
        "\n",
        "import numpy as np\n",
        "\n",
        "def newtons_forward_interpolation(x, y, target):\n",
        "    n = len(x)\n",
        "    h = x[1] - x[0]\n",
        "    divided_diff = np.zeros((n, n))\n",
        "    divided_diff[:, 0] = y\n",
        "    for j in range(1, n):\n",
        "        for i in range(n - j):\n",
        "            divided_diff[i, j] = divided_diff[i+1, j-1] - divided_diff[i, j-1]\n",
        "\n",
        "    result = y[0]\n",
        "\n",
        "    u = (target - x[0]) / h\n",
        "    for i in range(1, n):\n",
        "        term = 1\n",
        "        for j in range(i):\n",
        "            term *= (u - j)\n",
        "            term /= (j + 1)\n",
        "        result += term * divided_diff[0, i]\n",
        "\n",
        "    return result\n",
        "\n",
        "x = [3, 5, 7, 9]\n",
        "y = [180, 150, 120, 90]\n",
        "target = 4\n",
        "\n",
        "estimated_value = newtons_forward_interpolation(x, y, target)\n",
        "print(f\"The estimated value at x = {target} is: {estimated_value}\")"
      ]
    }
  ]
}