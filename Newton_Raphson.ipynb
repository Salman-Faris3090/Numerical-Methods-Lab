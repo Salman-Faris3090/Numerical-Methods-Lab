{
  "nbformat": 4,
  "nbformat_minor": 0,
  "metadata": {
    "colab": {
      "provenance": [],
      "authorship_tag": "ABX9TyNB7AvVRRfN9l9qh6jR8qE8"
    },
    "kernelspec": {
      "name": "python3",
      "display_name": "Python 3"
    },
    "language_info": {
      "name": "python"
    }
  },
  "cells": [
    {
      "cell_type": "code",
      "execution_count": 1,
      "metadata": {
        "colab": {
          "base_uri": "https://localhost:8080/"
        },
        "id": "InfZJv47rxf0",
        "outputId": "74684e85-5d2a-42ae-ca97-9e8ffa4d66f1"
      },
      "outputs": [
        {
          "output_type": "stream",
          "name": "stdout",
          "text": [
            "Enter the equation in terms of 'x': x**6-x-1\n",
            "\n",
            "Enter the initial guess for the root: 1\n",
            "\n",
            "The root of the equation is: 1.1347242213865578\n",
            "\n",
            "Iterations: 4\n"
          ]
        }
      ],
      "source": [
        "#         *** Newton Raphson Method ***\n",
        "\n",
        "\n",
        "import sympy as sp\n",
        "\n",
        "def calculate_derivative(equation, variable='x'):\n",
        "    x = sp.symbols(variable)\n",
        "    expression = sp.sympify(equation)\n",
        "    derivative = sp.diff(expression, x)\n",
        "    return derivative\n",
        "\n",
        "def newton_raphson(func, derivative_func, x0, tol=1e-6, max_iter=100):\n",
        "    x = x0\n",
        "    iterations = 0\n",
        "\n",
        "    while abs(func(x)) > tol and iterations < max_iter:\n",
        "        x = x - func(x) / derivative_func(x)\n",
        "        iterations += 1\n",
        "\n",
        "    return x, iterations\n",
        "\n",
        "equation = input(\"Enter the equation in terms of 'x': \")\n",
        "x = sp.symbols('x')\n",
        "user_function = sp.sympify(equation)\n",
        "user_derivative = sp.diff(user_function, x)\n",
        "func = sp.lambdify(x, user_function, 'numpy')\n",
        "derivative_func = sp.lambdify(x, user_derivative, 'numpy')\n",
        "initial_guess = float(input(\"\\nEnter the initial guess for the root: \"))\n",
        "root, iterations = newton_raphson(func, derivative_func, initial_guess)\n",
        "print(f\"\\nThe root of the equation is: {root}\")\n",
        "print(f\"\\nIterations: {iterations}\")"
      ]
    }
  ]
}