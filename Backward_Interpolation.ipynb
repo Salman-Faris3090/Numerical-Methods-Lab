{
  "nbformat": 4,
  "nbformat_minor": 0,
  "metadata": {
    "colab": {
      "provenance": [],
      "authorship_tag": "ABX9TyPQjKwVEHMIhdueXwq213HE"
    },
    "kernelspec": {
      "name": "python3",
      "display_name": "Python 3"
    },
    "language_info": {
      "name": "python"
    }
  },
  "cells": [
    {
      "cell_type": "code",
      "execution_count": 5,
      "metadata": {
        "colab": {
          "base_uri": "https://localhost:8080/"
        },
        "id": "WRL2-6zY-IT_",
        "outputId": "718122d4-4bd8-4850-c112-2e18ec33d804"
      },
      "outputs": [
        {
          "output_type": "stream",
          "name": "stdout",
          "text": [
            "Enter the number of data points: 5\n",
            "Enter the data points:\n",
            "x[0]: 0.10\n",
            "y[0]: 0.1003\n",
            "x[1]: 0.15\n",
            "y[1]: 0.1511\n",
            "x[2]: 0.20\n",
            "y[2]: 0.2027\n",
            "x[3]: 0.25\n",
            "y[3]: 0.2553\n",
            "x[4]: 0.30\n",
            "y[4]: 0.3039\n",
            "Enter the target x-coordinate for interpolation: 0.26\n",
            "The estimated value at x = 0.26 is: 0.26559152\n"
          ]
        }
      ],
      "source": [
        "# Newtons Backward Interpolation Method\n",
        "\n",
        "def backward_interpolation(x, y, value):\n",
        "  n = len(x)\n",
        "  h = x[1] - x[0]\n",
        "  differences = [[0 for _ in range(n)] for _ in range(n)]\n",
        "  for i in range(n):\n",
        "      differences[i][0] = y[i]\n",
        "\n",
        "  for j in range(1, n):\n",
        "      for i in range(n - j):\n",
        "          differences[i][j] = (differences[i + 1][j - 1] - differences[i][j - 1]) / h\n",
        "\n",
        "  result = 0\n",
        "  term = 1\n",
        "  for i in range(n):\n",
        "      result += term * differences[0][i]\n",
        "      term *= (value - x[i]) / h\n",
        "\n",
        "  return result\n",
        "x = [.10, .15, .20, .25, .30]\n",
        "y = [0.1003, 0.1511, 0.2027, 0.2553, 0.3093]\n",
        "import numpy as np\n",
        "\n",
        "def newtons_backward_interpolation(x, y, target):\n",
        "\n",
        "    n = len(x)\n",
        "    h = x[1] - x[0]\n",
        "\n",
        "\n",
        "    divided_diff = np.zeros((n, n))\n",
        "    divided_diff[:, 0] = y\n",
        "\n",
        "    for j in range(1, n):\n",
        "        for i in range(n - j):\n",
        "            divided_diff[i, j] = divided_diff[i+1, j-1] - divided_diff[i, j-1]\n",
        "\n",
        "    result = y[-1]\n",
        "\n",
        "    u = (target - x[-1]) / h\n",
        "    for i in range(1, n):\n",
        "        term = 1\n",
        "        for j in range(i):\n",
        "            term *= (u + j)\n",
        "            term /= (j + 1)\n",
        "        result += term * divided_diff[n-i-1, i]\n",
        "\n",
        "    return result\n",
        "\n",
        "n = int(input(\"Enter the number of data points: \"))\n",
        "x = []\n",
        "y = []\n",
        "\n",
        "print(\"Enter the data points:\")\n",
        "for i in range(n):\n",
        "    x_val = float(input(f\"x[{i}]: \"))\n",
        "    y_val = float(input(f\"y[{i}]: \"))\n",
        "    x.append(x_val)\n",
        "    y.append(y_val)\n",
        "\n",
        "target = float(input(\"Enter the target x-coordinate for interpolation: \"))\n",
        "\n",
        "estimated_value = newtons_backward_interpolation(x, y, target)\n",
        "print(f\"The estimated value at x = {target} is: {estimated_value}\")\n"
      ]
    }
  ]
}