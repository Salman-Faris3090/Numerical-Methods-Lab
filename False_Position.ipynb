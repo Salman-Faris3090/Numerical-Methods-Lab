{
  "nbformat": 4,
  "nbformat_minor": 0,
  "metadata": {
    "colab": {
      "provenance": [],
      "authorship_tag": "ABX9TyNfxyzt0BVgk+60IxXLlv2S"
    },
    "kernelspec": {
      "name": "python3",
      "display_name": "Python 3"
    },
    "language_info": {
      "name": "python"
    }
  },
  "cells": [
    {
      "cell_type": "code",
      "execution_count": 16,
      "metadata": {
        "colab": {
          "base_uri": "https://localhost:8080/"
        },
        "id": "9Pidifr0tYjy",
        "outputId": "515219d9-6a0a-46e4-e90f-3eeabbd3f9f2"
      },
      "outputs": [
        {
          "output_type": "stream",
          "name": "stdout",
          "text": [
            "Enter the function in terms of x: x**3-4*x-9\n",
            "Enter the value of a: 2\n",
            "Enter the value of b: 3\n",
            "Enter the value of ε: 0.0005\n",
            "The value of root is :  2.7065\n"
          ]
        }
      ],
      "source": [
        "#         *** False Position Method ***\n",
        "\n",
        "def false_position(function : str, a : int, b : int, Epsilon : float) -> float :\n",
        "    if function(a) * function(b) >= 0:\n",
        "        return None\n",
        "    c = None\n",
        "    while ((b-a) >= Epsilon):\n",
        "        c = (a * function(b) - b * function(a))/ (function(b)- function(a))\n",
        "        if function(c) == 0.0:\n",
        "            break\n",
        "        if function(c) * function(a) < 0:\n",
        "            b = c\n",
        "        else:\n",
        "            a = c\n",
        "    return c\n",
        "\n",
        "\n",
        "def main():\n",
        "    function = input(\"Enter the function in terms of x: \")\n",
        "    a = int(input(\"Enter the value of a: \"))\n",
        "    b = int(input(\"Enter the value of b: \"))\n",
        "    Epsilon = float(input(\"Enter the value of ε: \"))\n",
        "    func = lambda x: eval(function)\n",
        "    root = false_position(func, a, b, Epsilon)\n",
        "    if root is not None:\n",
        "        print(\"The value of root is : \", \"%.4f\"%root)\n",
        "    else:\n",
        "        print(\"No root in the given interval\")\n",
        "\n",
        "if __name__ == \"__main__\":\n",
        "    main()"
      ]
    }
  ]
}
