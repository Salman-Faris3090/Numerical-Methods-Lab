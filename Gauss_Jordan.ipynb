{
  "nbformat": 4,
  "nbformat_minor": 0,
  "metadata": {
    "colab": {
      "provenance": [],
      "authorship_tag": "ABX9TyNjOfD0Z17g6OyOtyY47VAp"
    },
    "kernelspec": {
      "name": "python3",
      "display_name": "Python 3"
    },
    "language_info": {
      "name": "python"
    }
  },
  "cells": [
    {
      "cell_type": "code",
      "source": [
        "#Gauss Jordan Method1\n",
        "\n",
        "import numpy as np\n",
        "import sys\n",
        "\n",
        "n = int(input('Enter number of unknowns: '))\n",
        "\n",
        "a = np.zeros((n,n+1))\n",
        "\n",
        "x = np.zeros(n)\n",
        "\n",
        "print('Enter Augmented Matrix Coefficients:')\n",
        "for i in range(n):\n",
        "    for j in range(n+1):\n",
        "        a[i][j] = float(input( 'a['+str(i)+']['+ str(j)+']='))\n",
        "\n",
        "for i in range(n):\n",
        "    if a[i][i] == 0.0:\n",
        "        sys.exit('Divide by zero detected!')\n",
        "\n",
        "    for j in range(i+1, n):\n",
        "        ratio = a[j][i]/a[i][i]\n",
        "\n",
        "        for k in range(n+1):\n",
        "            a[j][k] = a[j][k] - ratio * a[i][k]\n",
        "\n",
        "x[n-1] = a[n-1][n]/a[n-1][n-1]\n",
        "\n",
        "for i in range(n-2,-1,-1):\n",
        "    x[i] = a[i][n]\n",
        "\n",
        "    for j in range(i+1,n):\n",
        "        x[i] = x[i] - a[i][j]*x[j]\n",
        "\n",
        "    x[i] = x[i]/a[i][i]\n",
        "\n",
        "\n",
        "\n",
        "for i in range(n):\n",
        "    print('X%d = %0.2f' %(i,x[i]), end = '\\t')"
      ],
      "metadata": {
        "colab": {
          "base_uri": "https://localhost:8080/"
        },
        "id": "zoONNpgzZq1Q",
        "outputId": "ee3777df-b9d2-4ae8-8706-1f6f9d89d819"
      },
      "execution_count": 3,
      "outputs": [
        {
          "output_type": "stream",
          "name": "stdout",
          "text": [
            "Enter number of unknowns: 3\n",
            "Enter Augmented Matrix Coefficients:\n",
            "a[0][0]=10\n",
            "a[0][1]=1\n",
            "a[0][2]=1\n",
            "a[0][3]=12\n",
            "a[1][0]=1\n",
            "a[1][1]=10\n",
            "a[1][2]=-1\n",
            "a[1][3]=10\n",
            "a[2][0]=1\n",
            "a[2][1]=-2\n",
            "a[2][2]=10\n",
            "a[2][3]=9\n",
            "X0 = 1.00\tX1 = 1.00\tX2 = 1.00\t"
          ]
        }
      ]
    }
  ]
}